{
 "cells": [
  {
   "cell_type": "code",
   "execution_count": 1,
   "metadata": {},
   "outputs": [],
   "source": [
    "from kasi import *"
   ]
  },
  {
   "cell_type": "code",
   "execution_count": 2,
   "metadata": {},
   "outputs": [],
   "source": [
    "serviceKey = \"...\""
   ]
  },
  {
   "cell_type": "code",
   "execution_count": 3,
   "metadata": {},
   "outputs": [],
   "source": [
    "service = LrsrCldInfoService(serviceKey)"
   ]
  },
  {
   "cell_type": "code",
   "execution_count": 4,
   "metadata": {},
   "outputs": [
    {
     "data": {
      "text/plain": [
       "{'response': {'header': {'resultCode': '00', 'resultMsg': 'NORMAL SERVICE.'},\n",
       "  'body': {'items': {'item': {'lunDay': 11,\n",
       "     'lunIljin': '정축(丁丑)',\n",
       "     'lunLeapmonth': '평',\n",
       "     'lunMonth': 11,\n",
       "     'lunNday': 29,\n",
       "     'lunSecha': '갑오(甲午)',\n",
       "     'lunWolgeon': '병자(丙子)',\n",
       "     'lunYear': 2014,\n",
       "     'solDay': '01',\n",
       "     'solJd': 2457024,\n",
       "     'solLeapyear': '평',\n",
       "     'solMonth': '01',\n",
       "     'solWeek': '목',\n",
       "     'solYear': 2015}},\n",
       "   'numOfRows': 10,\n",
       "   'pageNo': 1,\n",
       "   'totalCount': 1}}}"
      ]
     },
     "execution_count": 4,
     "metadata": {},
     "output_type": "execute_result"
    }
   ],
   "source": [
    "service.getLunCalInfo(2015, 1, 1)"
   ]
  },
  {
   "cell_type": "code",
   "execution_count": 5,
   "metadata": {},
   "outputs": [
    {
     "data": {
      "text/plain": [
       "{'response': {'header': {'resultCode': '00', 'resultMsg': 'NORMAL SERVICE.'},\n",
       "  'body': {'items': {'item': {'lunDay': 29,\n",
       "     'lunIljin': '갑오(甲午)',\n",
       "     'lunLeapmonth': '평',\n",
       "     'lunMonth': '01',\n",
       "     'lunNday': 29,\n",
       "     'lunSecha': '을미(乙未)',\n",
       "     'lunWolgeon': '무인(戊寅)',\n",
       "     'lunYear': 2015,\n",
       "     'solDay': 19,\n",
       "     'solJd': 2457101,\n",
       "     'solLeapyear': '평',\n",
       "     'solMonth': '03',\n",
       "     'solWeek': '목',\n",
       "     'solYear': 2015}},\n",
       "   'numOfRows': 10,\n",
       "   'pageNo': 1,\n",
       "   'totalCount': 1}}}"
      ]
     },
     "execution_count": 5,
     "metadata": {},
     "output_type": "execute_result"
    }
   ],
   "source": [
    "service.getSolCalInfo(2015, 1, 29)"
   ]
  },
  {
   "cell_type": "code",
   "execution_count": 6,
   "metadata": {},
   "outputs": [
    {
     "data": {
      "text/plain": [
       "{'response': {'header': {'resultCode': '00', 'resultMsg': 'NORMAL SERVICE.'},\n",
       "  'body': {'items': {'item': [{'lunDay': '01',\n",
       "      'lunIljin': '계사(癸巳)',\n",
       "      'lunLeapmonth': '평',\n",
       "      'lunMonth': '01',\n",
       "      'lunNday': '01',\n",
       "      'lunSecha': '경진(庚辰)',\n",
       "      'lunWolgeon': '무인(戊寅)',\n",
       "      'lunYear': 2000,\n",
       "      'solDay': '05',\n",
       "      'solJd': 2451580,\n",
       "      'solLeapyear': '윤',\n",
       "      'solMonth': '02',\n",
       "      'solWeek': '토',\n",
       "      'solYear': 2000},\n",
       "     {'lunDay': '01',\n",
       "      'lunIljin': '정해(丁亥)',\n",
       "      'lunLeapmonth': '평',\n",
       "      'lunMonth': '01',\n",
       "      'lunNday': '01',\n",
       "      'lunSecha': '신사(辛巳)',\n",
       "      'lunWolgeon': '경인(庚寅)',\n",
       "      'lunYear': 2001,\n",
       "      'solDay': 24,\n",
       "      'solJd': 2451934,\n",
       "      'solLeapyear': '평',\n",
       "      'solMonth': '01',\n",
       "      'solWeek': '수',\n",
       "      'solYear': 2001},\n",
       "     {'lunDay': '01',\n",
       "      'lunIljin': '신해(辛亥)',\n",
       "      'lunLeapmonth': '평',\n",
       "      'lunMonth': '01',\n",
       "      'lunNday': '01',\n",
       "      'lunSecha': '임오(壬午)',\n",
       "      'lunWolgeon': '임인(壬寅)',\n",
       "      'lunYear': 2002,\n",
       "      'solDay': 12,\n",
       "      'solJd': 2452318,\n",
       "      'solLeapyear': '평',\n",
       "      'solMonth': '02',\n",
       "      'solWeek': '화',\n",
       "      'solYear': 2002},\n",
       "     {'lunDay': '01',\n",
       "      'lunIljin': '을사(乙巳)',\n",
       "      'lunLeapmonth': '평',\n",
       "      'lunMonth': '01',\n",
       "      'lunNday': '01',\n",
       "      'lunSecha': '계미(癸未)',\n",
       "      'lunWolgeon': '갑인(甲寅)',\n",
       "      'lunYear': 2003,\n",
       "      'solDay': '01',\n",
       "      'solJd': 2452672,\n",
       "      'solLeapyear': '평',\n",
       "      'solMonth': '02',\n",
       "      'solWeek': '토',\n",
       "      'solYear': 2003},\n",
       "     {'lunDay': '01',\n",
       "      'lunIljin': '경자(庚子)',\n",
       "      'lunLeapmonth': '평',\n",
       "      'lunMonth': '01',\n",
       "      'lunNday': '01',\n",
       "      'lunSecha': '갑신(甲申)',\n",
       "      'lunWolgeon': '병인(丙寅)',\n",
       "      'lunYear': 2004,\n",
       "      'solDay': 22,\n",
       "      'solJd': 2453027,\n",
       "      'solLeapyear': '윤',\n",
       "      'solMonth': '01',\n",
       "      'solWeek': '목',\n",
       "      'solYear': 2004},\n",
       "     {'lunDay': '01',\n",
       "      'lunIljin': '갑자(甲子)',\n",
       "      'lunLeapmonth': '평',\n",
       "      'lunMonth': '01',\n",
       "      'lunNday': '01',\n",
       "      'lunSecha': '을유(乙酉)',\n",
       "      'lunWolgeon': '무인(戊寅)',\n",
       "      'lunYear': 2005,\n",
       "      'solDay': '09',\n",
       "      'solJd': 2453411,\n",
       "      'solLeapyear': '평',\n",
       "      'solMonth': '02',\n",
       "      'solWeek': '수',\n",
       "      'solYear': 2005},\n",
       "     {'lunDay': '01',\n",
       "      'lunIljin': '무오(戊午)',\n",
       "      'lunLeapmonth': '평',\n",
       "      'lunMonth': '01',\n",
       "      'lunNday': '01',\n",
       "      'lunSecha': '병술(丙戌)',\n",
       "      'lunWolgeon': '경인(庚寅)',\n",
       "      'lunYear': 2006,\n",
       "      'solDay': 29,\n",
       "      'solJd': 2453765,\n",
       "      'solLeapyear': '평',\n",
       "      'solMonth': '01',\n",
       "      'solWeek': '일',\n",
       "      'solYear': 2006},\n",
       "     {'lunDay': '01',\n",
       "      'lunIljin': '계미(癸未)',\n",
       "      'lunLeapmonth': '평',\n",
       "      'lunMonth': '01',\n",
       "      'lunNday': '01',\n",
       "      'lunSecha': '정해(丁亥)',\n",
       "      'lunWolgeon': '임인(壬寅)',\n",
       "      'lunYear': 2007,\n",
       "      'solDay': 18,\n",
       "      'solJd': 2454150,\n",
       "      'solLeapyear': '평',\n",
       "      'solMonth': '02',\n",
       "      'solWeek': '일',\n",
       "      'solYear': 2007},\n",
       "     {'lunDay': '01',\n",
       "      'lunIljin': '정축(丁丑)',\n",
       "      'lunLeapmonth': '평',\n",
       "      'lunMonth': '01',\n",
       "      'lunNday': '01',\n",
       "      'lunSecha': '무자(戊子)',\n",
       "      'lunWolgeon': '갑인(甲寅)',\n",
       "      'lunYear': 2008,\n",
       "      'solDay': '07',\n",
       "      'solJd': 2454504,\n",
       "      'solLeapyear': '윤',\n",
       "      'solMonth': '02',\n",
       "      'solWeek': '목',\n",
       "      'solYear': 2008},\n",
       "     {'lunDay': '01',\n",
       "      'lunIljin': '신미(辛未)',\n",
       "      'lunLeapmonth': '평',\n",
       "      'lunMonth': '01',\n",
       "      'lunNday': '01',\n",
       "      'lunSecha': '기축(己丑)',\n",
       "      'lunWolgeon': '병인(丙寅)',\n",
       "      'lunYear': 2009,\n",
       "      'solDay': 26,\n",
       "      'solJd': 2454858,\n",
       "      'solLeapyear': '평',\n",
       "      'solMonth': '01',\n",
       "      'solWeek': '월',\n",
       "      'solYear': 2009}]},\n",
       "   'numOfRows': 10,\n",
       "   'pageNo': 1,\n",
       "   'totalCount': 17}}}"
      ]
     },
     "execution_count": 6,
     "metadata": {},
     "output_type": "execute_result"
    }
   ],
   "source": [
    "service.getSpcifyLunCalInfo(2000, 2016, 1, 1, \"평\")"
   ]
  },
  {
   "cell_type": "code",
   "execution_count": 7,
   "metadata": {},
   "outputs": [
    {
     "data": {
      "text/plain": [
       "{'response': {'header': {'resultCode': '00', 'resultMsg': 'NORMAL SERVICE.'},\n",
       "  'body': {'items': {'item': {'lunDay': 11,\n",
       "     'lunIljin': '정축(丁丑)',\n",
       "     'lunLeapmonth': '평',\n",
       "     'lunMonth': 11,\n",
       "     'lunNday': 29,\n",
       "     'lunSecha': '갑오(甲午)',\n",
       "     'lunWolgeon': '병자(丙子)',\n",
       "     'lunYear': 2014,\n",
       "     'solDay': '01',\n",
       "     'solJd': 2457024,\n",
       "     'solLeapyear': '평',\n",
       "     'solMonth': '01',\n",
       "     'solWeek': '목',\n",
       "     'solYear': 2015}},\n",
       "   'numOfRows': 10,\n",
       "   'pageNo': 1,\n",
       "   'totalCount': 1}}}"
      ]
     },
     "execution_count": 7,
     "metadata": {},
     "output_type": "execute_result"
    }
   ],
   "source": [
    "service.getJulDayInfo(2457024)"
   ]
  },
  {
   "cell_type": "code",
   "execution_count": 8,
   "metadata": {},
   "outputs": [],
   "source": [
    "service = RiseSetInfoService(serviceKey)"
   ]
  },
  {
   "cell_type": "code",
   "execution_count": 9,
   "metadata": {},
   "outputs": [
    {
     "data": {
      "text/plain": [
       "{'response': {'header': {'resultCode': '00', 'resultMsg': 'NORMAL SERVICE.'},\n",
       "  'body': {'items': {'item': {'aste': '1858  ',\n",
       "     'astm': '0613  ',\n",
       "     'civile': '1753  ',\n",
       "     'civilm': '0718  ',\n",
       "     'latitude': 3733,\n",
       "     'latitudeNum': '37.5500000',\n",
       "     'location': '서울    ',\n",
       "     'locdate': 20150101,\n",
       "     'longitude': 12658,\n",
       "     'longitudeNum': '126.9666660',\n",
       "     'moonrise': '1429  ',\n",
       "     'moonset': '0341  ',\n",
       "     'moontransit': 213246,\n",
       "     'naute': '1826  ',\n",
       "     'nautm': '0645  ',\n",
       "     'sunrise': '0747  ',\n",
       "     'sunset': '1724  ',\n",
       "     'suntransit': 123519}},\n",
       "   'numOfRows': 10,\n",
       "   'pageNo': 1,\n",
       "   'totalCount': 1}}}"
      ]
     },
     "execution_count": 9,
     "metadata": {},
     "output_type": "execute_result"
    }
   ],
   "source": [
    "service.getAreaRiseSetInfo(\"20150101\", \"서울\")"
   ]
  },
  {
   "cell_type": "code",
   "execution_count": 10,
   "metadata": {},
   "outputs": [
    {
     "data": {
      "text/plain": [
       "{'response': {'header': {'resultCode': '00', 'resultMsg': 'NORMAL SERVICE.'},\n",
       "  'body': {'items': {'item': {'aste': '1853  ',\n",
       "     'astm': '0608  ',\n",
       "     'civile': '1749  ',\n",
       "     'civilm': '0712  ',\n",
       "     'latitude': 3709,\n",
       "     'latitudeNum': '37.1500000',\n",
       "     'location': '제천    ',\n",
       "     'locdate': 20150101,\n",
       "     'longitude': 12812,\n",
       "     'longitudeNum': '128.2000000',\n",
       "     'moonrise': '1425  ',\n",
       "     'moonset': '0335  ',\n",
       "     'moontransit': 212744,\n",
       "     'naute': '1822  ',\n",
       "     'nautm': '0639  ',\n",
       "     'sunrise': '0741  ',\n",
       "     'sunset': '1720  ',\n",
       "     'suntransit': 123027}},\n",
       "   'numOfRows': 10,\n",
       "   'pageNo': 1,\n",
       "   'totalCount': 1}}}"
      ]
     },
     "execution_count": 10,
     "metadata": {},
     "output_type": "execute_result"
    }
   ],
   "source": [
    "service.getLCRiseSetInfo(\"20150101\", 128.2, 37.15)"
   ]
  },
  {
   "cell_type": "code",
   "execution_count": 11,
   "metadata": {},
   "outputs": [],
   "source": [
    "service = SrAltudeInfoService(serviceKey)"
   ]
  },
  {
   "cell_type": "code",
   "execution_count": 12,
   "metadata": {},
   "outputs": [
    {
     "data": {
      "text/plain": [
       "{'response': {'header': {'resultCode': '00', 'resultMsg': 'NORMAL SERVICE.'},\n",
       "  'body': {'items': {'item': {'altitudeMeridian': '29˚ 24´',\n",
       "     'altitude_09': '11˚ 04´',\n",
       "     'altitude_12': '28˚ 50´',\n",
       "     'altitude_15': '20˚ 31´',\n",
       "     'altitude_18': '-07˚ 14´',\n",
       "     'azimuth_09': '130˚ 49´',\n",
       "     'azimuth_12': '170˚ 43´',\n",
       "     'azimuth_15': '215˚ 26´',\n",
       "     'azimuth_18': '246˚ 27´',\n",
       "     'latitude': 3733,\n",
       "     'latitudeNum': '37.5500000',\n",
       "     'location': '서울',\n",
       "     'locdate': 20150101,\n",
       "     'longitude': 12658,\n",
       "     'longitudeNum': '126.9666660'}},\n",
       "   'numOfRows': 10,\n",
       "   'pageNo': 1,\n",
       "   'totalCount': 1}}}"
      ]
     },
     "execution_count": 12,
     "metadata": {},
     "output_type": "execute_result"
    }
   ],
   "source": [
    "service.getAreaSrAltudeInfo(\"20150101\", \"서울\")"
   ]
  },
  {
   "cell_type": "code",
   "execution_count": 13,
   "metadata": {},
   "outputs": [
    {
     "data": {
      "text/plain": [
       "{'response': {'header': {'resultCode': '00', 'resultMsg': 'NORMAL SERVICE.'},\n",
       "  'body': {'items': {'item': {'altitudeMeridian': '29˚ 24´',\n",
       "     'altitude_09': '11˚ 04´',\n",
       "     'altitude_12': '28˚ 50´',\n",
       "     'altitude_15': '20˚ 31´',\n",
       "     'altitude_18': '-07˚ 14´',\n",
       "     'azimuth_09': '130˚ 49´',\n",
       "     'azimuth_12': '170˚ 43´',\n",
       "     'azimuth_15': '215˚ 26´',\n",
       "     'azimuth_18': '246˚ 27´',\n",
       "     'latitude': 3733,\n",
       "     'latitudeNum': '37.5500000',\n",
       "     'location': '서울',\n",
       "     'locdate': 20150101,\n",
       "     'longitude': 12658,\n",
       "     'longitudeNum': '126.9666660'}},\n",
       "   'numOfRows': 10,\n",
       "   'pageNo': 1,\n",
       "   'totalCount': 1}}}"
      ]
     },
     "execution_count": 13,
     "metadata": {},
     "output_type": "execute_result"
    }
   ],
   "source": [
    "service.getLCSrAltudeInfo(\"20150101\", 128.2, 37.15)"
   ]
  },
  {
   "cell_type": "code",
   "execution_count": 14,
   "metadata": {},
   "outputs": [],
   "source": [
    "service = SpcdeInfoService(serviceKey)"
   ]
  },
  {
   "cell_type": "code",
   "execution_count": 15,
   "metadata": {},
   "outputs": [
    {
     "data": {
      "text/plain": [
       "{'response': {'header': {'resultCode': '00', 'resultMsg': 'NORMAL SERVICE.'},\n",
       "  'body': {'items': {'item': {'dateKind': '01',\n",
       "     'dateName': '삼일절',\n",
       "     'isHoliday': 'Y',\n",
       "     'locdate': 20150301,\n",
       "     'seq': 1}},\n",
       "   'numOfRows': 10,\n",
       "   'pageNo': 1,\n",
       "   'totalCount': 1}}}"
      ]
     },
     "execution_count": 15,
     "metadata": {},
     "output_type": "execute_result"
    }
   ],
   "source": [
    "service.getHoliDeInfo(2015, 3)"
   ]
  },
  {
   "cell_type": "code",
   "execution_count": 16,
   "metadata": {},
   "outputs": [
    {
     "data": {
      "text/plain": [
       "{'response': {'header': {'resultCode': '00', 'resultMsg': 'NORMAL SERVICE.'},\n",
       "  'body': {'items': {'item': {'dateKind': '01',\n",
       "     'dateName': '삼일절',\n",
       "     'isHoliday': 'Y',\n",
       "     'locdate': 20150301,\n",
       "     'seq': 1}},\n",
       "   'numOfRows': 10,\n",
       "   'pageNo': 1,\n",
       "   'totalCount': 1}}}"
      ]
     },
     "execution_count": 16,
     "metadata": {},
     "output_type": "execute_result"
    }
   ],
   "source": [
    "service.getRestDeInfo(2015, 3)"
   ]
  },
  {
   "cell_type": "code",
   "execution_count": 17,
   "metadata": {},
   "outputs": [
    {
     "data": {
      "text/plain": [
       "{'response': {'header': {'resultCode': '00', 'resultMsg': 'NORMAL SERVICE.'},\n",
       "  'body': {'items': {'item': [{'dateKind': '03',\n",
       "      'dateName': '입하',\n",
       "      'isHoliday': 'N',\n",
       "      'kst': '0452      ',\n",
       "      'locdate': 20150506,\n",
       "      'seq': 1,\n",
       "      'sunLongitude': 45},\n",
       "     {'dateKind': '03',\n",
       "      'dateName': '소만',\n",
       "      'isHoliday': 'N',\n",
       "      'kst': '1745      ',\n",
       "      'locdate': 20150521,\n",
       "      'seq': 2,\n",
       "      'sunLongitude': 60}]},\n",
       "   'numOfRows': 10,\n",
       "   'pageNo': 1,\n",
       "   'totalCount': 2}}}"
      ]
     },
     "execution_count": 17,
     "metadata": {},
     "output_type": "execute_result"
    }
   ],
   "source": [
    "service.get24DivisionsInfo(2015, 5)"
   ]
  },
  {
   "cell_type": "code",
   "execution_count": 18,
   "metadata": {},
   "outputs": [
    {
     "data": {
      "text/plain": [
       "{'response': {'header': {'resultCode': '00', 'resultMsg': 'NORMAL SERVICE.'},\n",
       "  'body': {'items': {'item': {'dateKind': '04',\n",
       "     'dateName': '토왕용사',\n",
       "     'isHoliday': 'N',\n",
       "     'kst': '2002      ',\n",
       "     'locdate': 20150117,\n",
       "     'seq': 1,\n",
       "     'sunLongitude': 297}},\n",
       "   'numOfRows': 10,\n",
       "   'pageNo': 1,\n",
       "   'totalCount': 1}}}"
      ]
     },
     "execution_count": 18,
     "metadata": {},
     "output_type": "execute_result"
    }
   ],
   "source": [
    "service.getSundryDayInfo(2015, 1)"
   ]
  },
  {
   "cell_type": "code",
   "execution_count": 19,
   "metadata": {},
   "outputs": [],
   "source": [
    "service = LunPhInfoService(serviceKey)"
   ]
  },
  {
   "cell_type": "code",
   "execution_count": 20,
   "metadata": {},
   "outputs": [
    {
     "data": {
      "text/plain": [
       "{'response': {'header': {'resultCode': '00', 'resultMsg': 'NORMAL SERVICE.'},\n",
       "  'body': {'items': {'item': {'lunAge': 10.4,\n",
       "     'solDay': '01',\n",
       "     'solMonth': '01',\n",
       "     'solWeek': '목',\n",
       "     'solYear': 2015}},\n",
       "   'numOfRows': 10,\n",
       "   'pageNo': 1,\n",
       "   'totalCount': 1}}}"
      ]
     },
     "execution_count": 20,
     "metadata": {},
     "output_type": "execute_result"
    }
   ],
   "source": [
    "service.getLunPhInfo(2015, 1, 1)"
   ]
  },
  {
   "cell_type": "code",
   "execution_count": 21,
   "metadata": {},
   "outputs": [],
   "source": [
    "service = AstroEventInfoService(serviceKey)"
   ]
  },
  {
   "cell_type": "code",
   "execution_count": 22,
   "metadata": {},
   "outputs": [
    {
     "data": {
      "text/plain": [
       "{'response': {'header': {'resultCode': '00', 'resultMsg': 'NORMAL SERVICE.'},\n",
       "  'body': {'items': {'item': [{'astroEvent': '거대마젤란망원경(Giant Magellan Telescope)은 한국, 미국, 호주 등이 공동으로 개발하는 세계 최대 광학망원경이다. 주경 전체 지름은 25.4m로 지름 8.4m인 조각 거울 7장으로 구성된다. 주경에 반사된 별빛은 위쪽의 부경 7장에서 다시 반사되어 주경 가운데 거울의 구멍 속으로 들어오고, 구멍 속으로 들어온 별빛은 관측기기를 통해 컴퓨터로 분석된다. 거대마젤란망원경은 허블 우주망원경보다 10배 더 선명한 영상을 제공할 수 있으며, 별과 행성의 형성, 은하의 형성과 진화, 블랙홀, 암흑물질과 암흑에너지, 우주 최초의 별과 은하 등의 연구에 사용된다. 이 망원경은 지구에서 우주를 관측하기에 가장 좋은 지역인 남반구 칠레의 라스 캄파나스 천문대에 2019년 완공될 예정이다.',\n",
       "      'astroTime': '',\n",
       "      'astroTitle': '대형광학망원경 개발 및 은하진화 연구',\n",
       "      'locdate': '201501  ',\n",
       "      'seq': 1},\n",
       "     {'astroEvent': '지구 근일점(0.983290A.U.)',\n",
       "      'astroTime': '16:00',\n",
       "      'astroTitle': '',\n",
       "      'locdate': 20150104,\n",
       "      'seq': 1},\n",
       "     {'astroEvent': '보름(망), 달 크기 15′03″',\n",
       "      'astroTime': '13:53',\n",
       "      'astroTitle': '',\n",
       "      'locdate': 20150105,\n",
       "      'seq': 1},\n",
       "     {'astroEvent': 'G.갈릴레이 - 목성의 4대위성 발견(1610)',\n",
       "      'astroTitle': '',\n",
       "      'locdate': 20150107,\n",
       "      'seq': 1},\n",
       "     {'astroEvent': '달 원지점 405,408km',\n",
       "      'astroTime': '03:00',\n",
       "      'astroTitle': '',\n",
       "      'locdate': 20150110,\n",
       "      'seq': 1},\n",
       "     {'astroEvent': '수성 - 금성 최대근접(0°39′)',\n",
       "      'astroTime': '10:00',\n",
       "      'astroTitle': '',\n",
       "      'locdate': 20150111,\n",
       "      'seq': 1},\n",
       "     {'astroEvent': '하현',\n",
       "      'astroTime': '18:46',\n",
       "      'astroTitle': '',\n",
       "      'locdate': 20150113,\n",
       "      'seq': 1},\n",
       "     {'astroEvent': '수성 동방최대이각(18°54′)',\n",
       "      'astroTime': '06:00',\n",
       "      'astroTitle': '',\n",
       "      'locdate': 20150115,\n",
       "      'seq': 1},\n",
       "     {'astroEvent': '화성 - 해왕성 최대근접(0°14′)',\n",
       "      'astroTime': '06:00',\n",
       "      'astroTitle': '',\n",
       "      'locdate': 20150120,\n",
       "      'seq': 1},\n",
       "     {'astroEvent': '합삭',\n",
       "      'astroTime': '22:15',\n",
       "      'astroTitle': '',\n",
       "      'locdate': 20150120,\n",
       "      'seq': 2}]},\n",
       "   'numOfRows': 10,\n",
       "   'pageNo': 1,\n",
       "   'totalCount': 16}}}"
      ]
     },
     "execution_count": 22,
     "metadata": {},
     "output_type": "execute_result"
    }
   ],
   "source": [
    "service.getAstroEventInfo(2015, 1)"
   ]
  },
  {
   "cell_type": "code",
   "execution_count": null,
   "metadata": {},
   "outputs": [],
   "source": []
  }
 ],
 "metadata": {
  "kernelspec": {
   "display_name": "Python 3",
   "language": "python",
   "name": "python3"
  },
  "language_info": {
   "codemirror_mode": {
    "name": "ipython",
    "version": 3
   },
   "file_extension": ".py",
   "mimetype": "text/x-python",
   "name": "python",
   "nbconvert_exporter": "python",
   "pygments_lexer": "ipython3",
   "version": "3.8.3"
  }
 },
 "nbformat": 4,
 "nbformat_minor": 4
}
